{
  "nbformat": 4,
  "nbformat_minor": 0,
  "metadata": {
    "colab": {
      "provenance": []
    },
    "kernelspec": {
      "name": "python3",
      "display_name": "Python 3"
    },
    "language_info": {
      "name": "python"
    }
  },
  "cells": [
    {
      "cell_type": "markdown",
      "source": [
        "# Theory questions : files & exceptional handling assignment"
      ],
      "metadata": {
        "id": "RXCiqOEsi0_s"
      }
    },
    {
      "cell_type": "markdown",
      "source": [
        "\n",
        "#1. What is the difference between interpreted and compiled languages?\n",
        "- Interpreted languages execute code line by line at runtime (e.g., Python, JavaScript), slower but platform-independent.\n",
        "Compiled languages convert code into machine code before execution (e.g., C, C++), faster but needs recompilation for different platforms.\n",
        "#2. What is exception handling in Python?\n",
        "- A mechanism to handle runtime errors using try, except, else, and finally blocks without crashing the program.\n",
        "#3. What is the purpose of the finally block in exception handling?\n",
        "- Runs always, whether an exception occurs or not.\n",
        "- Commonly used for cleanup tasks (e.g., closing files).\n",
        "#4. What is logging in Python?\n",
        "- A feature to record messages during program execution for debugging and monitoring using the logging module.\n",
        "#5. What is the significance of the del method in Python?\n",
        "- It is a destructor method called when an object is about to be destroyed, mainly used for cleanup.\n",
        "#6. What is the difference between import and from ... import in Python?\n",
        "- import module: Imports the entire module, access with module.function().\n",
        "- from module import function: Imports only specific functions/classes, used directly.\n",
        "#7. How can you handle multiple exceptions in Python?\n",
        "- Using multiple except blocks: try: ... except ValueError: ... except TypeError: ...\n",
        "- Using a single except with a tuple: except (ValueError, TypeError): ...\n",
        "#8. What is the purpose of the with statement when handling files in Python?\n",
        "- Ensures automatic closing of files after use, even if an error occurs.\n",
        "#9. What is the difference between multithreading and multiprocessing?\n",
        "- Multithreading: Multiple threads within the same process; good for I/O-bound tasks.\n",
        "- Multiprocessing: Multiple processes with separate memory; good for CPU-bound tasks.\n",
        "#10. What are the advantages of using logging in a program?\n",
        "- Provides a persistent record of events.\n",
        "- Helps in debugging and error tracking.\n",
        "- Allows configurable logging levels.\n",
        "#11. What is memory management in Python?\n",
        "- Automatic allocation and deallocation of memory using Python's garbage collection system.\n",
        "#12. What are the basic steps involved in exception handling in Python?\n",
        "- Place risky code in try block.\n",
        "- Handle errors in except.\n",
        "- Use else for code that runs if no exception occurs.\n",
        "- Use finally for cleanup.\n",
        "\n",
        "#13. Why is memory management important in Python?\n",
        "\n",
        "- Prevents memory leaks.\n",
        "- Improves performance.\n",
        "- Optimizes system resource usage.\n",
        "#14. What is the role of try and except in exception handling?\n",
        "- try: Code block where an exception may occur.\n",
        "- except: Code block that handles the exception.\n",
        "#15. How does Python's garbage collection system work?\n",
        "- Uses reference counting and a cyclic garbage collector to remove unused objects.\n",
        "#16. What is the purpose of the else block in exception handling?\n",
        "- Executes only if no exception occurs in the try block.\n",
        "#17. What are the common logging levels in Python?\n",
        "- DEBUG, INFO, WARNING, ERROR, CRITICAL.\n",
        "#18. What is the difference between os.fork() and multiprocessing in Python?\n",
        "- os.fork(): Creates a child process at OS level (Unix only).\n",
        "- multiprocessing: Cross-platform, creates separate processes easily.\n",
        "#19. What is the importance of closing a file in Python?\n",
        "- Releases system resources.\n",
        "- Ensures all data is written to the file.\n",
        "#20. What is the difference between file.read() and file.readline() in Python?\n",
        "- read(): Reads entire file or given number of bytes.\n",
        "- readline(): Reads one line at a time.\n",
        "#21. What is the logging module in Python used for?\n",
        "- To log messages, track events, and debug applications.\n",
        "#22. What is the os module in Python used for in file handling?\n",
        "- Provides functions for interacting with the operating system (e.g., file paths, directory management).\n",
        "#23. What are the challenges associated with memory management in Python?\n",
        "- Circular references.\n",
        "- Memory fragmentation.\n",
        "- High memory usage in large applications.\n",
        "#24. How do you raise an exception manually in Python? raise ValueError(\"Custom error message\")\n",
        "- raise ValueError(\"Invalid input\")\n",
        "\n",
        "#25. Why is it important to use multithreading in certain applications?\n",
        "- Improves responsiveness.\n",
        "- Enhances performance in I/O-bound tasks.\n",
        "- Allows concurrent execution."
      ],
      "metadata": {
        "id": "vdAZy84Xf1LU"
      }
    },
    {
      "cell_type": "markdown",
      "source": [
        "# Practical Questions"
      ],
      "metadata": {
        "id": "SqLSCrDTjP9b"
      }
    },
    {
      "cell_type": "code",
      "source": [
        "# 1. How can you open a file for writing in Python and write a string to it?\n",
        "with open(\"example.txt\", \"w\", encoding=\"utf-8\") as f:\n",
        "    f.write(\"Hello, world!\\n\")"
      ],
      "metadata": {
        "id": "ue9qcOQ_i_3B"
      },
      "execution_count": 1,
      "outputs": []
    },
    {
      "cell_type": "code",
      "source": [
        "# 2. Write a Python program to read the contents of a file and print each line.\n",
        "filename = \"example.txt\"\n",
        "with open(filename, \"r\", encoding=\"utf-8\") as f:\n",
        "    for line in f:\n",
        "       print(line.rstrip(\"\\n\"))"
      ],
      "metadata": {
        "colab": {
          "base_uri": "https://localhost:8080/"
        },
        "id": "JHwLXergjUnB",
        "outputId": "8335e58e-3e85-448f-e5c0-d81a347e5149"
      },
      "execution_count": 3,
      "outputs": [
        {
          "output_type": "stream",
          "name": "stdout",
          "text": [
            "Hello, world!\n"
          ]
        }
      ]
    },
    {
      "cell_type": "code",
      "source": [
        "# 3. How would you handle a case where the file doesn't exist while trying to open it for reading?\n",
        "filename = \"missing.txt\"\n",
        "try:\n",
        "    with open(filename, \"r\", encoding=\"utf-8\") as f:\n",
        "        data = f.read()\n",
        "        print(data)\n",
        "except FileNotFoundError:\n",
        "    print(f\"File not found: {filename}\")"
      ],
      "metadata": {
        "colab": {
          "base_uri": "https://localhost:8080/"
        },
        "id": "6-D2-hO4jWhw",
        "outputId": "a1ec3383-a647-403c-f5e5-bece7d630d0c"
      },
      "execution_count": 5,
      "outputs": [
        {
          "output_type": "stream",
          "name": "stdout",
          "text": [
            "File not found: missing.txt\n"
          ]
        }
      ]
    },
    {
      "cell_type": "code",
      "source": [
        "# 4. Write a Python script that reads from one file and writes its content to another file.\n",
        "source_file = \"input.txt\"\n",
        "destination_file = \"output.txt\"\n",
        "\n",
        "try:\n",
        "    with open(source_file, 'r') as src, open(destination_file, 'w') as dest:\n",
        "        dest.write(src.read())\n",
        "    print(f\"Content copied from '{source_file}' to '{destination_file}'.\")\n",
        "except FileNotFoundError:\n",
        "    print(f\"Error: The file '{source_file}' does not exist.\")\n",
        "except Exception as e:\n",
        "    print(f\"An error occurred: {e}\")\n"
      ],
      "metadata": {
        "colab": {
          "base_uri": "https://localhost:8080/"
        },
        "id": "rDc6qA1gjcGO",
        "outputId": "0fa270db-94d5-4e70-b882-89cc9735f654"
      },
      "execution_count": 6,
      "outputs": [
        {
          "output_type": "stream",
          "name": "stdout",
          "text": [
            "Error: The file 'input.txt' does not exist.\n"
          ]
        }
      ]
    },
    {
      "cell_type": "code",
      "source": [
        "# 5. How would you catch and handle division by zero error in Python?\n",
        "a = 5\n",
        "b = 0\n",
        "try:\n",
        "    result = a / b\n",
        "except ZeroDivisionError:\n",
        "    result = None\n",
        "    print(\"Cannot divide by zero.\")\n",
        "print(\"result:\", result)\n"
      ],
      "metadata": {
        "colab": {
          "base_uri": "https://localhost:8080/"
        },
        "id": "QSzVEJfZjgDn",
        "outputId": "53bcfefd-96d2-4111-bc6c-0e92b20562d0"
      },
      "execution_count": 7,
      "outputs": [
        {
          "output_type": "stream",
          "name": "stdout",
          "text": [
            "Cannot divide by zero.\n",
            "result: None\n"
          ]
        }
      ]
    },
    {
      "cell_type": "code",
      "source": [
        "# 6. Write a Python program that logs an error message to a log file when a division by zero exception occurs.\n",
        "import logging\n",
        "\n",
        "logging.basicConfig(\n",
        "    filename=\"math_errors.log\",\n",
        "    level=logging.ERROR,\n",
        "    format=\"%(asctime)s %(levelname)s %(message)s\"\n",
        ")\n",
        "\n",
        "a = 5\n",
        "b = 0\n",
        "try:\n",
        "    result = a / b\n",
        "except ZeroDivisionError:\n",
        "    logging.error(\"Attempted division by zero: a=%s, b=%s\", a, b)"
      ],
      "metadata": {
        "colab": {
          "base_uri": "https://localhost:8080/"
        },
        "id": "-sjq8OeLjh31",
        "outputId": "d5aad1e0-db90-4d58-e364-a71ef89164e0"
      },
      "execution_count": 8,
      "outputs": [
        {
          "output_type": "stream",
          "name": "stderr",
          "text": [
            "ERROR:root:Attempted division by zero: a=5, b=0\n"
          ]
        }
      ]
    },
    {
      "cell_type": "code",
      "source": [
        "# 7. How do you log information at different levels (INFO, ERROR, WARNING) in Python using the logging module?\n",
        "import logging\n",
        "\n",
        "logging.basicConfig(\n",
        "    filename=\"multi_level.log\",\n",
        "    level=logging.DEBUG,\n",
        "    format=\"%(asctime)s %(levelname)s %(message)s\"\n",
        ")\n",
        "\n",
        "logging.info(\"Starting process\")\n",
        "logging.warning(\"Low disk space warning\")\n",
        "try:\n",
        "    1 / 0\n",
        "except ZeroDivisionError:\n",
        "    logging.error(\"Division by zero occurred\", exc_info=True)\n"
      ],
      "metadata": {
        "colab": {
          "base_uri": "https://localhost:8080/"
        },
        "id": "_lygrtfQjkDt",
        "outputId": "db4c4965-474f-4406-a183-1b11dd20f260"
      },
      "execution_count": 9,
      "outputs": [
        {
          "output_type": "stream",
          "name": "stderr",
          "text": [
            "WARNING:root:Low disk space warning\n",
            "ERROR:root:Division by zero occurred\n",
            "Traceback (most recent call last):\n",
            "  File \"/tmp/ipython-input-9-3593656191.py\", line 13, in <cell line: 0>\n",
            "    1 / 0\n",
            "    ~~^~~\n",
            "ZeroDivisionError: division by zero\n"
          ]
        }
      ]
    },
    {
      "cell_type": "code",
      "source": [
        "# 8. Write a program to handle a file opening error using exception handling.\n",
        "filename = \"maybe_exists.txt\"\n",
        "try:\n",
        "    f = open(filename, \"r\", encoding=\"utf-8\")\n",
        "except OSError as e:\n",
        "    print(f\"Error opening {filename}: {e}\")\n",
        "else:\n",
        "    with f:\n",
        "        print(f.read())"
      ],
      "metadata": {
        "colab": {
          "base_uri": "https://localhost:8080/"
        },
        "id": "wFFkw52MjmJY",
        "outputId": "291db8a9-e161-43e1-cf45-a2557eef97a1"
      },
      "execution_count": 11,
      "outputs": [
        {
          "output_type": "stream",
          "name": "stdout",
          "text": [
            "Error opening maybe_exists.txt: [Errno 2] No such file or directory: 'maybe_exists.txt'\n"
          ]
        }
      ]
    },
    {
      "cell_type": "code",
      "source": [
        "# 9. How can you read a file line by line and store its content in a list in Python?\n",
        "filename = \"lines.txt\"\n",
        "with open(filename, \"r\", encoding=\"utf-8\") as f:\n",
        "    lines = [line.rstrip(\"\\n\") for line in f]\n",
        "print(lines)"
      ],
      "metadata": {
        "colab": {
          "base_uri": "https://localhost:8080/",
          "height": 219
        },
        "id": "PhpVR8yOjoDC",
        "outputId": "71de908c-411c-4124-9953-b3f95c9782cc"
      },
      "execution_count": 12,
      "outputs": [
        {
          "output_type": "error",
          "ename": "FileNotFoundError",
          "evalue": "[Errno 2] No such file or directory: 'lines.txt'",
          "traceback": [
            "\u001b[0;31m---------------------------------------------------------------------------\u001b[0m",
            "\u001b[0;31mFileNotFoundError\u001b[0m                         Traceback (most recent call last)",
            "\u001b[0;32m/tmp/ipython-input-12-3889433438.py\u001b[0m in \u001b[0;36m<cell line: 0>\u001b[0;34m()\u001b[0m\n\u001b[1;32m      1\u001b[0m \u001b[0;31m# 9. How can you read a file line by line and store its content in a list in Python?\u001b[0m\u001b[0;34m\u001b[0m\u001b[0;34m\u001b[0m\u001b[0m\n\u001b[1;32m      2\u001b[0m \u001b[0mfilename\u001b[0m \u001b[0;34m=\u001b[0m \u001b[0;34m\"lines.txt\"\u001b[0m\u001b[0;34m\u001b[0m\u001b[0;34m\u001b[0m\u001b[0m\n\u001b[0;32m----> 3\u001b[0;31m \u001b[0;32mwith\u001b[0m \u001b[0mopen\u001b[0m\u001b[0;34m(\u001b[0m\u001b[0mfilename\u001b[0m\u001b[0;34m,\u001b[0m \u001b[0;34m\"r\"\u001b[0m\u001b[0;34m,\u001b[0m \u001b[0mencoding\u001b[0m\u001b[0;34m=\u001b[0m\u001b[0;34m\"utf-8\"\u001b[0m\u001b[0;34m)\u001b[0m \u001b[0;32mas\u001b[0m \u001b[0mf\u001b[0m\u001b[0;34m:\u001b[0m\u001b[0;34m\u001b[0m\u001b[0;34m\u001b[0m\u001b[0m\n\u001b[0m\u001b[1;32m      4\u001b[0m     \u001b[0mlines\u001b[0m \u001b[0;34m=\u001b[0m \u001b[0;34m[\u001b[0m\u001b[0mline\u001b[0m\u001b[0;34m.\u001b[0m\u001b[0mrstrip\u001b[0m\u001b[0;34m(\u001b[0m\u001b[0;34m\"\\n\"\u001b[0m\u001b[0;34m)\u001b[0m \u001b[0;32mfor\u001b[0m \u001b[0mline\u001b[0m \u001b[0;32min\u001b[0m \u001b[0mf\u001b[0m\u001b[0;34m]\u001b[0m\u001b[0;34m\u001b[0m\u001b[0;34m\u001b[0m\u001b[0m\n\u001b[1;32m      5\u001b[0m \u001b[0mprint\u001b[0m\u001b[0;34m(\u001b[0m\u001b[0mlines\u001b[0m\u001b[0;34m)\u001b[0m\u001b[0;34m\u001b[0m\u001b[0;34m\u001b[0m\u001b[0m\n",
            "\u001b[0;31mFileNotFoundError\u001b[0m: [Errno 2] No such file or directory: 'lines.txt'"
          ]
        }
      ]
    },
    {
      "cell_type": "code",
      "source": [
        "# 10. How can you append data to an existing file in Python?\n",
        "with open(\"append_example.txt\", \"a\", encoding=\"utf-8\") as f:\n",
        "    f.write(\"Additional line\\n\")\n"
      ],
      "metadata": {
        "id": "PmwNfz_bjsUI"
      },
      "execution_count": 13,
      "outputs": []
    },
    {
      "cell_type": "code",
      "source": [
        "# 11. Write a Python program that uses a try-except block to handle an error when attempting to access a dictionary key that doesn't exist.\n",
        "data = {\"name\": \"Alice\", \"age\": 30}\n",
        "key = \"salary\"\n",
        "try:\n",
        "    value = data[key]\n",
        "except KeyError:\n",
        "    print(f\"Key '{key}' not found.\")\n",
        "else:\n",
        "    print(\"Value:\", value)"
      ],
      "metadata": {
        "colab": {
          "base_uri": "https://localhost:8080/"
        },
        "id": "JStVfDnZjugV",
        "outputId": "28b53b68-b621-472e-ac03-d49fcdec9b23"
      },
      "execution_count": 14,
      "outputs": [
        {
          "output_type": "stream",
          "name": "stdout",
          "text": [
            "Key 'salary' not found.\n"
          ]
        }
      ]
    },
    {
      "cell_type": "code",
      "source": [
        "# 12. Write a program that demonstrates using multiple except blocks to handle different types of exceptions.\n",
        "def demo_multiple_excepts(x, y):\n",
        "    try:\n",
        "        result = x / y\n",
        "        print(\"Result:\", result)\n",
        "        print(\"As int:\", int(result))\n",
        "    except ZeroDivisionError:\n",
        "        print(\"Cannot divide by zero.\")\n",
        "    except ValueError:\n",
        "        print(\"Conversion to int failed.\")\n",
        "    except TypeError:\n",
        "        print(\"Operands must be numbers.\")\n",
        "\n",
        "demo_multiple_excepts(10, 2)\n",
        "demo_multiple_excepts(10, 0)\n",
        "demo_multiple_excepts(\"ten\", 2)"
      ],
      "metadata": {
        "colab": {
          "base_uri": "https://localhost:8080/"
        },
        "id": "gcsFkuGkjyCy",
        "outputId": "9243a5e4-42fc-41ec-c3c9-5a54b6eb75d0"
      },
      "execution_count": 15,
      "outputs": [
        {
          "output_type": "stream",
          "name": "stdout",
          "text": [
            "Result: 5.0\n",
            "As int: 5\n",
            "Cannot divide by zero.\n",
            "Operands must be numbers.\n"
          ]
        }
      ]
    },
    {
      "cell_type": "code",
      "source": [
        "# 13. How would you check if a file exists before attempting to read it in Python?\n",
        "import os\n",
        "\n",
        "filename = \"check_me.txt\"\n",
        "if os.path.exists(filename):\n",
        "    with open(filename, \"r\", encoding=\"utf-8\") as f:\n",
        "        print(f.read())\n",
        "else:\n",
        "    print(\"File does not exist.\")"
      ],
      "metadata": {
        "colab": {
          "base_uri": "https://localhost:8080/"
        },
        "id": "Samz7Te0j0xB",
        "outputId": "93061a73-17e4-4e27-abda-71cbd768c06c"
      },
      "execution_count": 16,
      "outputs": [
        {
          "output_type": "stream",
          "name": "stdout",
          "text": [
            "File does not exist.\n"
          ]
        }
      ]
    },
    {
      "cell_type": "code",
      "source": [
        "# 14. Write a program that uses the logging module to log both informational and error messages.\n",
        "import logging\n",
        "\n",
        "logging.basicConfig(\n",
        "    filename=\"info_error.log\",\n",
        "    level=logging.INFO,\n",
        "    format=\"%(asctime)s %(levelname)s %(message)s\"\n",
        ")\n",
        "\n",
        "logging.info(\"Program started\")\n",
        "try:\n",
        "    10 / 0\n",
        "except ZeroDivisionError:\n",
        "    logging.error(\"Division by zero!\", exc_info=True)\n",
        "logging.info(\"Program finished\")"
      ],
      "metadata": {
        "colab": {
          "base_uri": "https://localhost:8080/"
        },
        "id": "ltjal4esj2oO",
        "outputId": "f8def6e0-8b74-48ed-a6dc-7d68df45c9e0"
      },
      "execution_count": 18,
      "outputs": [
        {
          "output_type": "stream",
          "name": "stderr",
          "text": [
            "ERROR:root:Division by zero!\n",
            "Traceback (most recent call last):\n",
            "  File \"/tmp/ipython-input-18-2281987983.py\", line 12, in <cell line: 0>\n",
            "    10 / 0\n",
            "    ~~~^~~\n",
            "ZeroDivisionError: division by zero\n"
          ]
        }
      ]
    },
    {
      "cell_type": "code",
      "source": [
        "# 15. Write a Python program that prints the content of a file and handles the case when the file is empty.\n",
        "import os\n",
        "\n",
        "filename = \"maybe_empty.txt\"\n",
        "if not os.path.exists(filename):\n",
        "    print(\"File not found.\")\n",
        "else:\n",
        "    if os.path.getsize(filename) == 0:\n",
        "        print(\"File is empty.\")\n",
        "    else:\n",
        "        with open(filename, \"r\", encoding=\"utf-8\") as f:\n",
        "            print(f.read())\n",
        ""
      ],
      "metadata": {
        "colab": {
          "base_uri": "https://localhost:8080/"
        },
        "id": "yNeJ3u-Pj4vy",
        "outputId": "caa46b81-5b24-40f7-d8cb-3d2b37fef2f1"
      },
      "execution_count": 19,
      "outputs": [
        {
          "output_type": "stream",
          "name": "stdout",
          "text": [
            "File not found.\n"
          ]
        }
      ]
    },
    {
      "cell_type": "code",
      "source": [
        "# 16. Demonstrate how to use memory profiling to check the memory usage of a small program.\n",
        "# Using tracemalloc from the standard library (works in Colab too)\n",
        "import tracemalloc\n",
        "\n",
        "tracemalloc.start()\n",
        "\n",
        "# Sample \"small program\" that creates a list\n",
        "nums = [i for i in range(1_000_0)]  # 10k numbers\n",
        "\n",
        "current, peak = tracemalloc.get_traced_memory()\n",
        "print(f\"Current memory: {current} bytes; Peak memory: {peak} bytes\")\n",
        "\n",
        "tracemalloc.stop()"
      ],
      "metadata": {
        "colab": {
          "base_uri": "https://localhost:8080/"
        },
        "id": "fj4o2x6Tj8L9",
        "outputId": "d7c2a04c-0796-41f4-8644-a2dc43022904"
      },
      "execution_count": 20,
      "outputs": [
        {
          "output_type": "stream",
          "name": "stdout",
          "text": [
            "Current memory: 397952 bytes; Peak memory: 409260 bytes\n"
          ]
        }
      ]
    },
    {
      "cell_type": "code",
      "source": [
        "# 17. Write a Python program to create and write a list of numbers to a file, one number per line.\n",
        "numbers = list(range(1, 11))\n",
        "with open(\"numbers.txt\", \"w\", encoding=\"utf-8\") as f:\n",
        "    for n in numbers:\n",
        "        f.write(f\"{n}\\n\")"
      ],
      "metadata": {
        "id": "kI0MgWiTj-5Y"
      },
      "execution_count": 21,
      "outputs": []
    },
    {
      "cell_type": "code",
      "source": [
        "# 18. How would you implement a basic logging setup that logs to a file with rotation after 1MB?\n",
        "import logging\n",
        "from logging.handlers import RotatingFileHandler\n",
        "\n",
        "logger = logging.getLogger(\"rotating_logger\")\n",
        "logger.setLevel(logging.INFO)\n",
        "\n",
        "handler = RotatingFileHandler(\n",
        "    \"rotating.log\",\n",
        "    maxBytes=1_000_000,   # 1 MB\n",
        "    backupCount=5         # keep 5 old logs\n",
        ")\n",
        "formatter = logging.Formatter(\"%(asctime)s %(levelname)s %(message)s\")\n",
        "handler.setFormatter(formatter)\n",
        "logger.addHandler(handler)\n",
        "\n",
        "logger.info(\"This is a test log message.\")"
      ],
      "metadata": {
        "colab": {
          "base_uri": "https://localhost:8080/"
        },
        "id": "y5qh6URFkAce",
        "outputId": "5fcd5959-5266-4bcc-fb91-f0e8f2a71875"
      },
      "execution_count": 22,
      "outputs": [
        {
          "output_type": "stream",
          "name": "stderr",
          "text": [
            "INFO:rotating_logger:This is a test log message.\n"
          ]
        }
      ]
    },
    {
      "cell_type": "code",
      "source": [
        "# 19. Write a program that handles both IndexError and KeyError using a try-except block.\n",
        "data_list = [10, 20, 30]\n",
        "data_dict = {\"a\": 1, \"b\": 2}\n",
        "\n",
        "try:\n",
        "    # Trying to access an invalid index and an invalid key\n",
        "    print(\"List element:\", data_list[5])  # This will cause IndexError\n",
        "    print(\"Dictionary value:\", data_dict[\"c\"])  # This will cause KeyError\n",
        "\n",
        "except IndexError:\n",
        "    print(\"Error: List index out of range.\")\n",
        "\n",
        "except KeyError:\n",
        "    print(\"Error: Key not found in dictionary.\")\n",
        "\n",
        "print(\"Program continues...\")\n",
        ""
      ],
      "metadata": {
        "colab": {
          "base_uri": "https://localhost:8080/"
        },
        "id": "wRHkOoRwkCaw",
        "outputId": "93137681-be3d-4f4a-ab59-c4f1e864f561"
      },
      "execution_count": 23,
      "outputs": [
        {
          "output_type": "stream",
          "name": "stdout",
          "text": [
            "Error: List index out of range.\n",
            "Program continues...\n"
          ]
        }
      ]
    },
    {
      "cell_type": "code",
      "source": [
        "# 20. How would you open a file and read its contents using a context manager in Python?\n",
        "filename = \"input.txt\"\n",
        "\n",
        "try:\n",
        "    with open(filename, \"r\", encoding=\"utf-8\") as file:\n",
        "        content = file.read()\n",
        "        print(\"File content:\")\n",
        "        print(content)\n",
        "except FileNotFoundError:\n",
        "    print(f\"Error: The file '{filename}' does not exist.\")\n",
        "except Exception as e:\n",
        "    print(f\"An error occurred: {e}\")"
      ],
      "metadata": {
        "colab": {
          "base_uri": "https://localhost:8080/"
        },
        "id": "Le5s12z0kERc",
        "outputId": "75eea4b4-ce9e-43af-f034-110fa2d0e442"
      },
      "execution_count": 24,
      "outputs": [
        {
          "output_type": "stream",
          "name": "stdout",
          "text": [
            "Error: The file 'input.txt' does not exist.\n"
          ]
        }
      ]
    },
    {
      "cell_type": "code",
      "source": [
        "# 21. Write a Python program that reads a file and prints the number of occurrences of a specific word.\n",
        "import re\n",
        "\n",
        "filename = \"input.txt\"      # change as needed\n",
        "word_to_count = \"python\"    # change as needed\n",
        "case_sensitive = False      # set True for case-sensitive match\n",
        "\n",
        "try:\n",
        "    with open(filename, \"r\", encoding=\"utf-8\") as f:\n",
        "        text = f.read()\n",
        "    flags = 0 if case_sensitive else re.IGNORECASE\n",
        "    pattern = r\"\\b{}\\b\".format(re.escape(word_to_count))\n",
        "    count = len(re.findall(pattern, text, flags))\n",
        "    print(f\"'{word_to_count}' occurs {count} time(s) in '{filename}'.\")\n",
        "except FileNotFoundError:\n",
        "    print(f\"Error: The file '{filename}' does not exist.\")\n",
        "except Exception as e:\n",
        "    print(f\"An error occurred: {e}\")"
      ],
      "metadata": {
        "colab": {
          "base_uri": "https://localhost:8080/"
        },
        "id": "PzXbNfv4kF_-",
        "outputId": "3474eb97-7971-422d-c048-90cb3ab210df"
      },
      "execution_count": 25,
      "outputs": [
        {
          "output_type": "stream",
          "name": "stdout",
          "text": [
            "Error: The file 'input.txt' does not exist.\n"
          ]
        }
      ]
    },
    {
      "cell_type": "code",
      "source": [
        "# 22. How can you check if a file is empty before attempting to read its contents?\n",
        "import os\n",
        "\n",
        "filename = \"check_empty.txt\"\n",
        "if os.path.exists(filename) and os.path.getsize(filename) > 0:\n",
        "    with open(filename, \"r\", encoding=\"utf-8\") as f:\n",
        "        print(f.read())\n",
        "else:\n",
        "    print(\"File is empty or does not exist.\")"
      ],
      "metadata": {
        "colab": {
          "base_uri": "https://localhost:8080/"
        },
        "id": "wetb4W8okH81",
        "outputId": "6734a54b-84d9-4773-b4cd-b23aa6b8bbec"
      },
      "execution_count": 26,
      "outputs": [
        {
          "output_type": "stream",
          "name": "stdout",
          "text": [
            "File is empty or does not exist.\n"
          ]
        }
      ]
    },
    {
      "cell_type": "code",
      "source": [
        "# 23. Write a Python program that writes to a log file when an error occurs during file handling.\n",
        "import logging\n",
        "\n",
        "logging.basicConfig(\n",
        "    filename=\"file_errors.log\",\n",
        "    level=logging.ERROR,\n",
        "    format=\"%(asctime)s %(levelname)s %(message)s\"\n",
        ")\n",
        "\n",
        "filename = \"no_such_file.txt\"\n",
        "try:\n",
        "    with open(filename, \"r\", encoding=\"utf-8\") as f:\n",
        "        data = f.read()\n",
        "except OSError as e:\n",
        "    logging.error(\"Error opening %s: %s\", filename, e)\n",
        "    print(\"Logged file error.\")\n"
      ],
      "metadata": {
        "colab": {
          "base_uri": "https://localhost:8080/"
        },
        "id": "dX5DkNfdkJbx",
        "outputId": "ea2a1c2d-0c9d-4ef8-d0c8-17427e0f8a75"
      },
      "execution_count": 27,
      "outputs": [
        {
          "output_type": "stream",
          "name": "stderr",
          "text": [
            "ERROR:root:Error opening no_such_file.txt: [Errno 2] No such file or directory: 'no_such_file.txt'\n"
          ]
        },
        {
          "output_type": "stream",
          "name": "stdout",
          "text": [
            "Logged file error.\n"
          ]
        }
      ]
    },
    {
      "cell_type": "code",
      "source": [],
      "metadata": {
        "id": "cSRZXTdJkLDQ"
      },
      "execution_count": null,
      "outputs": []
    }
  ]
}